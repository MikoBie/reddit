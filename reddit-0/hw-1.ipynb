{
 "cells": [
  {
   "cell_type": "markdown",
   "metadata": {},
   "source": [
    "# Homework"
   ]
  },
  {
   "cell_type": "markdown",
   "metadata": {},
   "source": [
    "I figured that maybe it would be wise to give you something to practice. Therefore, try to complete the following task:\n",
    "\n",
    "* Get 25 submissions from a Reddit called `todayilearned`\n",
    "* The submissions should be from the day of your last even birthday or earlier, for example, my last even birthday was last year on October 24th, therefore, I would get submissions from either 24th or earlier\n",
    "* The submissions should include word science\n",
    "\n",
    "When you get the data please save it to JSON line file, however, please write out to JSON only the following fields:\n",
    "\n",
    "* `author`\n",
    "* `created_utc` - in human readable format\n",
    "* `title`\n",
    "* `url` - it should always exist but if this field is `None` or doesn't exist write the code in a way that it doesn't yield an error.\n",
    "\n",
    "**Hint**: In general, you should just modify the code from `reddit-0.ipynb`."
   ]
  },
  {
   "cell_type": "code",
   "execution_count": null,
   "metadata": {},
   "outputs": [],
   "source": [
    "import requests as rq ## this is a module to send requests\n",
    "import json ## this is a module to process json\n",
    "import time ## this is a module we will need to understand time"
   ]
  },
  {
   "cell_type": "code",
   "execution_count": null,
   "metadata": {},
   "outputs": [],
   "source": [
    "## Submissions endpoint\n",
    "url_submissions = 'https://api.pushshift.io/reddit/search/submission/'"
   ]
  },
  {
   "cell_type": "code",
   "execution_count": null,
   "metadata": {},
   "outputs": [],
   "source": [
    "## Specify the query\n",
    "date_time_before = '26.10.2017 00:00:00'\n",
    "pattern = '%d.%m.%Y %H:%M:%S'\n",
    "before_time = str(int(time.mktime(time.strptime(date_time_before, pattern))))\n",
    "\n",
    "payload = { 'subreddit' : 'todayilearned',\n",
    "            'q' : 'science',\n",
    "            'before' : before_time}"
   ]
  },
  {
   "cell_type": "code",
   "execution_count": null,
   "metadata": {},
   "outputs": [],
   "source": [
    "## Let's send the request and save the response as the response object\n",
    "response = rq.get(url_submissions, params = payload)"
   ]
  },
  {
   "cell_type": "code",
   "execution_count": null,
   "metadata": {},
   "outputs": [],
   "source": [
    "## Assign the data to data object\n",
    "data = json.loads(response.text)['data']"
   ]
  },
  {
   "cell_type": "code",
   "execution_count": null,
   "metadata": {},
   "outputs": [],
   "source": [
    "data"
   ]
  },
  {
   "cell_type": "code",
   "execution_count": null,
   "metadata": {},
   "outputs": [],
   "source": [
    "with open('science.jl', 'w') as file:\n",
    "    for line in data:\n",
    "        ## Create a new mapping with only the fields we want\n",
    "        temp = { 'title' : line['title'],\n",
    "                 'author' : line['author'],\n",
    "                 'created_utc' : time.strftime('%Y-%m-%d %H:%M:%S', time.localtime(line['created_utc']))}\n",
    "        ## Add field url if it exists\n",
    "        if 'url' in line and line['url'] != None:\n",
    "            temp['url'] = line['url']\n",
    "        ## Write out the object to file\n",
    "        file.write(json.dumps(temp) + '\\n')\n",
    "       \n",
    "        "
   ]
  }
 ],
 "metadata": {
  "kernelspec": {
   "display_name": "Python 3",
   "language": "python",
   "name": "python3"
  },
  "language_info": {
   "codemirror_mode": {
    "name": "ipython",
    "version": 3
   },
   "file_extension": ".py",
   "mimetype": "text/x-python",
   "name": "python",
   "nbconvert_exporter": "python",
   "pygments_lexer": "ipython3",
   "version": "3.7.9"
  }
 },
 "nbformat": 4,
 "nbformat_minor": 4
}
