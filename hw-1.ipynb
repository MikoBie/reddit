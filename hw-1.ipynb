{
 "cells": [
  {
   "cell_type": "markdown",
   "metadata": {},
   "source": [
    "# Homework"
   ]
  },
  {
   "cell_type": "markdown",
   "metadata": {},
   "source": [
    "I figured that maybe it would be wise to give you something to practice. Therefore, try to complete the following task:\n",
    "\n",
    "* Get 25 submissions from a Reddit called `todayilearned`.\n",
    "* The submissions should be from the day of your last even birthday or earlier, for example, my last even birthday was last year on October 24th, therefore, I would get submissions from either 24th or earlier.\n",
    "* The submissions should include word `science`.\n",
    "\n",
    "When you get the data please save it to JSON line file, however, please write out to JSON only the following fields:\n",
    "\n",
    "* `author`;\n",
    "* `created_utc` - in human readable format;\n",
    "* `title`;\n",
    "* `url` - it should always exist but if this field is `None` or doesn't exist write the code in a way that it doesn't yield an error.\n",
    "\n",
    "**Hint**: In general, you should just modify the code from `reddit-0.ipynb`."
   ]
  }
 ],
 "metadata": {
  "kernelspec": {
   "display_name": "Python 3",
   "language": "python",
   "name": "python3"
  },
  "language_info": {
   "codemirror_mode": {
    "name": "ipython",
    "version": 3
   },
   "file_extension": ".py",
   "mimetype": "text/x-python",
   "name": "python",
   "nbconvert_exporter": "python",
   "pygments_lexer": "ipython3",
   "version": "3.7.9"
  }
 },
 "nbformat": 4,
 "nbformat_minor": 4
}
