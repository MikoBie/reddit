{
 "cells": [
  {
   "attachments": {},
   "cell_type": "markdown",
   "metadata": {},
   "source": [
    "## Before you start\n",
    "\n",
    "Please make sure that you have a Reddit account and created an app. This app will serve us (similarly to the old good days of open Twitter API -- which was Elons ago) to get the data.\n",
    "\n",
    "To create an app you basically need to click this [link](https://www.reddit.com/prefs/apps) and fill in a form looking more or less like the one below.\n",
    "\n",
    "<div style=\"text-align:center\"><img src=\"../png/reddit_app.png\" /></div>\n",
    "\n",
    "You should select the script and put as redirect ur `http://localhost:8080`. In the screenshot above I hide the Reddit Client Id (the red square just below the \"person use script\") and Reddit Client Secret. I did it on purpose because as I said during the class it is information that you should not share with anyone. Especially, Reddit Client Secret has in the name secret for a very good reason. Just a reminder, it allows Reddit to match the request you are sending to Reddit with your account. In other words, it allows to the webpage recognize the app as yours. Therefore, if you share your credentials with a stranger they might use it to do something malicious and you would be one to blame. It more or less works like with your ID card. If you give your ID to a shady person they might take a bank loan in your name and you will be the one who has to pay it back. "
   ]
  },
  {
   "cell_type": "code",
   "execution_count": null,
   "metadata": {},
   "outputs": [],
   "source": [
    "!pip install praw\n",
    "## Import modules\n",
    "import praw\n",
    "from praw.models import MoreComments\n",
    "import os\n",
    "from datetime import datetime\n",
    "import spacy\n",
    "import json\n",
    "import pandas as pd\n",
    "\n",
    "## Ignore the following\n",
    "client_id = os.getenv(\"Reddit_Client_Id\")\n",
    "client_secret = os.getenv('Reddit_Client_Secret')\n",
    "password = os.getenv('Reddit_password')\n",
    "user_agent = os.getenv('Reddit_User_Agent')\n",
    "username = os.getenv('Reddit_Username')\n",
    "\n",
    "def convert_date(date_float : float) -> str:\n",
    "    '''\n",
    "    Takes a date in epoch time format and converts it into a string in human-readable date format.\n",
    "    \n",
    "    Parameters:\n",
    "    -----------\n",
    "        date_float (float): a float representing a date in epoch time format.\n",
    "        \n",
    "    Returns:\n",
    "    --------\n",
    "        (str) : a string representing a date in human-readable format.\n",
    "    '''\n",
    "    return datetime.fromtimestamp(date_float).strftime('%d-%m-%Y %H:%M:%S')\n"
   ]
  },
  {
   "attachments": {},
   "cell_type": "markdown",
   "metadata": {},
   "source": [
    "The chunk above serves for loading modules, loading my credentials from my computers, and defining a helper function that converts epoch time into a human-readable format. However, it would return empty strings in your case because it works only on my computer (I will show you sometime how to set it also for your computer but not now). For now, you need to paste your credentials as strings in the chunk below. \n",
    "\n",
    "* `clinet_id` is just the string below the persona use script.\n",
    "* `client_secret` is just the script following the secret.\n",
    "* `password` is just your Reddit password.\n",
    "* `user_agent` in practice could be just the name of your app. However, theoretically, you should provide here a string with `<operating system>:<client_id>:<version of the app> (by u/<your username>)`.\n",
    "* `username` is just your Reddit username."
   ]
  },
  {
   "cell_type": "code",
   "execution_count": null,
   "metadata": {},
   "outputs": [],
   "source": [
    "## Replace empty strings with your credentials\n",
    "## client_id = ''\n",
    "## client_secret = ''\n",
    "## password = ''\n",
    "## user_agent = ''\n",
    "## username = ''"
   ]
  },
  {
   "attachments": {},
   "cell_type": "markdown",
   "metadata": {},
   "source": [
    "Once you have all your credentials stored in _Python_ as strings let's connect to Reddit API. [Here](https://praw.readthedocs.io/en/stable/index.html) is the docummentation of this module."
   ]
  },
  {
   "cell_type": "code",
   "execution_count": null,
   "metadata": {},
   "outputs": [],
   "source": [
    "## Connect to Reddit API\n",
    "reddit = praw.Reddit(\n",
    "    client_id=client_id,\n",
    "    client_secret = client_secret,\n",
    "    password=password,\n",
    "    user_agent=user_agent,\n",
    "    username=username\n",
    ")"
   ]
  },
  {
   "cell_type": "code",
   "execution_count": null,
   "metadata": {},
   "outputs": [],
   "source": [
    "## Get all submissions from Reddit about multilingualparenting\n",
    "subreddit = reddit.subreddit('multilingualparenting').top(time_filter=\"all\", limit = None)\n",
    "## Create a list of dictionaries with the submissions\n",
    "submissions = [ { 'title' : line.title,\n",
    "                  'id' : line.id,\n",
    "                  'upvote_ratio' : line.upvote_ratio,\n",
    "                  'selftext' : line.selftext,\n",
    "                  'score' : line.score,\n",
    "                  'flair' : line.link_flair_text,\n",
    "                  'num_comments' : line.num_comments,\n",
    "                  'is_self' : line.is_self,\n",
    "                  'created' : convert_date(line.created_utc)} \n",
    "               for line in subreddit ]"
   ]
  },
  {
   "attachments": {},
   "cell_type": "markdown",
   "metadata": {},
   "source": [
    "There is a lot of information we can get from submissions. The following fields are out there but probably we don't need all of them. I put them here just in case.\n",
    "\n",
    "* author -- provides an instance of Redditor.\n",
    "* author_flair_text -- the text content of the author’s flair, or None if not flared. In simple terms, a flair on Reddit is a kind of tag added to either post or username. They are meant to categorize posts or users.\n",
    "* clicked -- whether or not the submission has been clicked by the client.\n",
    "* comments -- provides an instance of CommentForest.\n",
    "* created_utc -- time the submission was created, represented in Unix Time.\n",
    "* distinguished -- whether or not the submission is distinguished.\n",
    "* edited -- Whether or not the submission has been edited.\n",
    "* id -- ID of the submission.\n",
    "* is_original_content -- whether or not the submission has been set as original content.\n",
    "* is_self -- whether or not the submission is a selfpost (text-only).\n",
    "* link_flair_template_id -- the link flair’s ID.\n",
    "* link_flair_text -- The link flair’s text content, or None if not flared.\n",
    "* locked -- whether or not the submission has been locked.\n",
    "* name -- full name of the submission.\n",
    "* num_comments -- the number of comments on the submission.\n",
    "* over_18 -- whether or not the submission has been marked as NSFW.\n",
    "* permalink -- a permalink for the submission.\n",
    "* poll_data -- a PollData object representing the data of this submission, if it is a poll submission.\n",
    "* saved -- whether or not the submission is saved.\n",
    "* score -- the number of upvotes for the submission.\n",
    "* selftext -- the submissions’ selftext - an empty string if a link post.\n",
    "* spoiler -- whether or not the submission has been marked as a spoiler.\n",
    "* stickied -- whether or not the submission is stickied.\n",
    "* subreddit -- provides an instance of Subreddit.\n",
    "* title -- the title of the submission.\n",
    "* upvote_ratio -- the percentage of upvotes from all votes on the submission.\n",
    "* url -- the URL the submission links to, or the permalink if a selfpost."
   ]
  },
  {
   "cell_type": "code",
   "execution_count": null,
   "metadata": {},
   "outputs": [],
   "source": [
    "## Just print out the most important information about each submission.\n",
    "for sub in submissions: print({ 'id' : sub['id'], 'title' : sub['title'], 'num_comments' : sub['num_comments'] })"
   ]
  },
  {
   "attachments": {},
   "cell_type": "markdown",
   "metadata": {},
   "source": [
    "There is a lot of information about a single comment. The following fields are out there but probably we don't need all of them. I put them here just in case.\n",
    "\n",
    "* author -- provides an instance of Redditor.\n",
    "* body -- the body of the comment, as Markdown.\n",
    "* body_html -- the body of the comment, as HTML.\n",
    "* created_utc -- time the comment was created, represented in Unix Time.\n",
    "* distinguished -- whether or not the comment is distinguished.\n",
    "* edited -- whether or not the comment has been edited.\n",
    "* id -- the ID of the comment.\n",
    "* is_submitter -- whether or not the comment author is also the author of the submission.\n",
    "* link_id -- the submission ID that the comment belongs to.\n",
    "* parent_id -- the ID of the parent comment (prefixed with t1_). If it is a top-level comment, this returns the submission ID instead (prefixed with t3_).\n",
    "* permalink -- a permalink for the comment. Comment objects from the inbox have a context attribute instead.\n",
    "* replies -- provides an instance of CommentForest.\n",
    "* saved -- whether or not the comment is saved.\n",
    "* score -- the number of upvotes for the comment.\n",
    "* stickied -- whether or not the comment is stickied.\n",
    "* submission -- provides an instance of Submission. The submission that the comment belongs to.\n",
    "* subreddit -- provides an instance of Subreddit. The subreddit that the comment belongs to.\n",
    "* subreddit_id -- the subreddit ID that the comment belongs to.\n",
    "\n",
    "And for the Redditor\n",
    "\n",
    "* comment_karma -- the comment karma for the Redditor.\n",
    "* comments -- provide an instance of SubListing for comment access.\n",
    "* submissions -- provide an instance of SubListing for submission access.\n",
    "* created_utc -- time the account was created, represented in Unix Time.\n",
    "* has_verified_email -- whether or not the Redditor has verified their email.\n",
    "* icon_img -- the url of the Redditors’ avatar.\n",
    "* id -- the ID of the Redditor.\n",
    "* is_employee -- whether or not the Redditor is a Reddit employee.\n",
    "* is_friend -- whether or not the Redditor is friends with the authenticated user.\n",
    "* is_mod -- whether or not the Redditor mods any subreddits.\n",
    "* is_gold -- whether or not the Redditor has active Reddit Premium status.\n",
    "* is_suspended -- whether or not the Redditor is currently suspended.\n",
    "* link_karma -- the link karma for the Redditor.\n",
    "* name -- the Redditor’s username.\n",
    "* subreddit -- if the Redditor has created a user-subreddit, provides a dictionary of additional attributes. See below.\n",
    "* subreddit[\"banner_img\"] -- the URL of the user-subreddit banner.\n",
    "* subreddit[\"name\"]-- the fullname of the user-subreddit.\n",
    "* subreddit[\"over_18\"] -- whether or not the user-subreddit is NSFW.\n",
    "* subreddit[\"public_description\"] -- the public description of the user-subreddit.\n",
    "* subreddit[\"subscribers\"] -- the number of users subscribed to the user-subreddit.\n",
    "* subreddit[\"title\"] -- the title of the user-subreddit."
   ]
  },
  {
   "cell_type": "code",
   "execution_count": null,
   "metadata": {},
   "outputs": [],
   "source": [
    "## Select a submission by id -- this one is the first submission from multilingualparenting subreddit\n",
    "submission = reddit.submission(\"l4lgjs\")\n",
    "\n",
    "## Set the option to get all the comments\n",
    "submission.comments.replace_more(limit=None)\n",
    "\n",
    "## Iterate over all the comments. Ignore the comments\n",
    "## tree. Write the comments to the JSON line file.\n",
    "with open('comments_example.jl', 'w') as file:\n",
    "  for comment in submission.comments.list():\n",
    "      temp_dict = {}\n",
    "      temp_dict['body'] = comment.body\n",
    "      ## Sometimes a given comment was deleted. Then\n",
    "      ## we don't want to write it out to the file.\n",
    "      ## I use here the continue statement. It does not\n",
    "      ## break the loop it just goes to the next iteration.\n",
    "      ## In other words whenever the comment was deleted\n",
    "      ## it skips the rest of the code below the continue\n",
    "      ## statement and gos for the next comment.\n",
    "      if temp_dict['body'] == '[deleted]':\n",
    "          continue\n",
    "      temp_dict['score'] = comment.score\n",
    "      temp_dict['link'] = comment.permalink\n",
    "      try:\n",
    "          temp_dict['author'] = { 'name' : comment.author.name,\n",
    "                                  'karma' : comment.author.comment_karma,\n",
    "                                  'created_utc' : convert_date(comment.author.created_utc),\n",
    "                                  'has_verified_email' : comment.author.has_verified_email,\n",
    "                                  #'is_suspended' : comment.author.is_suspended,\n",
    "                                  'is_gold' : comment.author.is_gold\n",
    "          }\n",
    "      except:\n",
    "          pass\n",
    "      temp_dict['created_utc'] = convert_date(comment.created_utc)\n",
    "      temp_dict['edited'] = comment.edited\n",
    "      temp_dict['is_submitter'] = comment.is_submitter\n",
    "      \n",
    "      file.write(json.dumps(temp_dict) + '\\n')"
   ]
  },
  {
   "attachments": {},
   "cell_type": "markdown",
   "metadata": {},
   "source": [
    "## EXCEL File\n",
    "If you want to create an excell file from a JSON line file you can easily do it in the following manner."
   ]
  },
  {
   "cell_type": "code",
   "execution_count": null,
   "metadata": {},
   "outputs": [],
   "source": [
    "## Read into Python a JSON line file\n",
    "with open('comments_example.jl', 'r') as file:\n",
    "    df = [ json.loads(line) for line in file.readlines() ]\n",
    "    \n",
    "pd.DataFrame(df).to_excel('comments_example.xlsx')"
   ]
  }
 ],
 "metadata": {
  "kernelspec": {
   "display_name": "reddit",
   "language": "python",
   "name": "python3"
  },
  "language_info": {
   "codemirror_mode": {
    "name": "ipython",
    "version": 3
   },
   "file_extension": ".py",
   "mimetype": "text/x-python",
   "name": "python",
   "nbconvert_exporter": "python",
   "pygments_lexer": "ipython3",
   "version": "3.10.8"
  },
  "orig_nbformat": 4,
  "vscode": {
   "interpreter": {
    "hash": "d55d0eb9076beff1aad1bfd9ab8f276d192cdf8ff5403c32a6f6618edbf4e356"
   }
  }
 },
 "nbformat": 4,
 "nbformat_minor": 2
}
