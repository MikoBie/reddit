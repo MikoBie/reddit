{
 "cells": [
  {
   "attachments": {},
   "cell_type": "markdown",
   "metadata": {},
   "source": [
    "## Wegetarianizm -- Polska"
   ]
  },
  {
   "cell_type": "code",
   "execution_count": null,
   "metadata": {},
   "outputs": [],
   "source": [
    "## Import modules\n",
    "import praw\n",
    "from praw.models import MoreComments\n",
    "import nltk\n",
    "from nltk.corpus import stopwords\n",
    "from nltk.tokenize import word_tokenize\n",
    "import os\n",
    "from datetime import datetime\n",
    "import spacy\n",
    "nlp = spacy.load(\"pl_core_news_sm\")\n",
    "from gensim.corpora import Dictionary\n",
    "from gensim.models import LdaModel\n",
    "import json\n",
    "\n",
    "## stop_words = stopwords.words('polish')\n",
    "## Get the tokens to connect to Reddit Oficial API\n",
    "client_id = os.getenv(\"Reddit_Client_Id\")\n",
    "client_secret = os.getenv('Reddit_Client_Secret')\n",
    "password = os.getenv('Reddit_password')\n",
    "user_agent = os.getenv('Reddit_User_Agent')\n",
    "username = os.getenv('Reddit_Username')\n"
   ]
  },
  {
   "cell_type": "code",
   "execution_count": null,
   "metadata": {},
   "outputs": [],
   "source": [
    "## Connect to Reddit API\n",
    "reddit = praw.Reddit(\n",
    "    client_id=client_id,\n",
    "    client_secret = client_secret,\n",
    "    password=password,\n",
    "    user_agent=user_agent,\n",
    "    username=username\n",
    ")"
   ]
  },
  {
   "cell_type": "code",
   "execution_count": 138,
   "metadata": {},
   "outputs": [],
   "source": [
    "## New class for corpus. It streams docs or if the model is provided it returns results of LDA\n",
    "class MyCorpus:\n",
    "    def __init__(self, path):\n",
    "        self.path = path\n",
    "        self.dictionary = None\n",
    "\n",
    "    def get_tokens(self):\n",
    "        with open(self.path, 'r') as file:\n",
    "            for doc in file:\n",
    "                temp = json.loads(doc)\n",
    "                yield temp['tokens']\n",
    "    \n",
    "    def get_bow(self):\n",
    "        for doc in self.get_tokens():\n",
    "            yield self.dictionary.doc2bow(doc)\n",
    "    \n",
    "    def __iter__(self):\n",
    "        for doc in self.get_bow():\n",
    "            yield doc\n",
    "\n",
    "\n",
    "    def get_topics(self, model):\n",
    "        with open(self.path, 'r') as file:\n",
    "            for doc in file:\n",
    "                temp = json.loads(doc)\n",
    "                topics = model.get_document_topics(self.dictionary.doc2bow(temp['tokens']))\n",
    "                topic, prob = sorted( topics, key = lambda x: x[1], reverse=True )[0]\n",
    "                temp['topic'] = topic\n",
    "                temp['topic_prob'] = prob\n",
    "                yield temp"
   ]
  },
  {
   "cell_type": "code",
   "execution_count": null,
   "metadata": {},
   "outputs": [],
   "source": [
    "## Get all submissions from Reddit Polska that contain a word \n",
    "## wegetarianizm\n",
    "subreddit = reddit.subreddit('Polska').search('wegetarianizm')\n",
    "## Create a list of dictionaries with the submissions\n",
    "submissions = [ { 'title' : line.title,\n",
    "                  'id' : line.id,\n",
    "                  'upvote_ratio' : line.upvote_ratio,\n",
    "                  'selftext' : line.selftext,\n",
    "                  'score' : line.score,\n",
    "                  'flair' : line.link_flair_text,\n",
    "                  'num_comments' : line.num_comments,\n",
    "                  'is_self' : line.is_self} \n",
    "               for line in subreddit ]"
   ]
  },
  {
   "attachments": {},
   "cell_type": "markdown",
   "metadata": {},
   "source": [
    "There is a lot of information we can get from a submissions. The following fields are out there but probably we don't need all of them. I put them here just in case.\n",
    "\n",
    "* author -- provides an instance of Redditor.\n",
    "* author_flair_text -- the text content of the author’s flair, or None if not flaired. In simple terms, a flair on reddit is a kind of tag added to either post or username. They are meant to categorize posts or users.\n",
    "* clicked -- whether or not the submission has been clicked by the client.\n",
    "* comments -- provides an instance of CommentForest.\n",
    "* created_utc -- time the submission was created, represented in Unix Time.\n",
    "* distinguished -- whether or not the submission is distinguished.\n",
    "* edited -- Whether or not the submission has been edited.\n",
    "* id -- ID of the submission.\n",
    "* is_original_content -- whether or not the submission has been set as original content.\n",
    "* is_self -- whether or not the submission is a selfpost (text-only).\n",
    "* link_flair_template_id -- the link flair’s ID.\n",
    "* link_flair_text -- The link flair’s text content, or None if not flaired.\n",
    "* locked -- whether or not the submission has been locked.\n",
    "* name -- Fullname of the submission.\n",
    "* num_comments -- the number of comments on the submission.\n",
    "* over_18 -- whether or not the submission has been marked as NSFW.\n",
    "* permalink -- a permalink for the submission.\n",
    "* poll_data -- a PollData object representing the data of this submission, if it is a poll submission.\n",
    "* saved -- whether or not the submission is saved.\n",
    "* score -- the number of upvotes for the submission.\n",
    "* selftext -- the submissions’ selftext - an empty string if a link post.\n",
    "* spoiler -- whether or not the submission has been marked as a spoiler.\n",
    "* stickied -- whether or not the submission is stickied.\n",
    "* subreddit -- provides an instance of Subreddit.\n",
    "* title -- the title of the submission.\n",
    "* upvote_ratio -- the percentage of upvotes from all votes on the submission.\n",
    "* url -- the URL the submission links to, or the permalink if a selfpost."
   ]
  },
  {
   "cell_type": "code",
   "execution_count": null,
   "metadata": {},
   "outputs": [],
   "source": [
    "## Just print out the most important information about each submission.\n",
    "for sub in submissions: print({ 'id' : sub['id'], 'title' : sub['title'], 'num_comments' : sub['num_comments'] })"
   ]
  },
  {
   "attachments": {},
   "cell_type": "markdown",
   "metadata": {},
   "source": [
    "There is a lot of information on a single comment. The following fields are otu there but probably we don't need all of them. I put them here just in case.jjj\n",
    "\n",
    "* author -- provides an instance of Redditor.\n",
    "* body -- the body of the comment, as Markdown.\n",
    "* body_html -- he body of the comment, as HTML.\n",
    "* created_utc -- time the comment was created, represented in Unix Time.\n",
    "* distinguished -- whether or not the comment is distinguished.\n",
    "* edited -- whether or not the comment has been edited.\n",
    "* id -- the ID of the comment.\n",
    "* is_submitter -- whether or not the comment author is also the author of the submission.\n",
    "* link_id -- the submission ID that the comment belongs to.\n",
    "* parent_id -- he ID of the parent comment (prefixed with t1_). If it is a top-level comment, this returns the submission ID instead (prefixed with t3_).\n",
    "* permalink -- a permalink for the comment. Comment objects from the inbox have a context attribute instead.\n",
    "* replies -- provides an instance of CommentForest.\n",
    "* saved -- whether or not the comment is saved.\n",
    "* score -- the number of upvotes for the comment.\n",
    "* stickied -- whether or not the comment is stickied.\n",
    "* submission -- provides an instance of Submission. The submission that the comment belongs to.\n",
    "* subreddit -- provides an instance of Subreddit. The subreddit that the comment belongs to.\n",
    "* subreddit_id -- the subreddit ID that the comment belongs to.\n",
    "\n",
    "And for the Redditor\n",
    "\n",
    "* comment_karma -- the comment karma for the Redditor.\n",
    "* comments -- provide an instance of SubListing for comment access.\n",
    "* submissions -- provide an instance of SubListing for submission access.\n",
    "* created_utc -- time the account was created, represented in Unix Time.\n",
    "* has_verified_email -- whether or not the Redditor has verified their email.\n",
    "* icon_img -- the url of the Redditors’ avatar.\n",
    "* id -- the ID of the Redditor.\n",
    "* is_employee -- whether or not the Redditor is a Reddit employee.\n",
    "* is_friend -- whether or not the Redditor is friends with the authenticated user.\n",
    "* is_mod -- whether or not the Redditor mods any subreddits.\n",
    "* is_gold -- whether or not the Redditor has active Reddit Premium status.\n",
    "* is_suspended -- whether or not the Redditor is currently suspended.\n",
    "* link_karma -- the link karma for the Redditor.\n",
    "* name -- the Redditor’s username.\n",
    "* subreddit -- if the Redditor has created a user-subreddit, provides a dictionary of additional attributes. See below.\n",
    "* subreddit[\"banner_img\"] -- the URL of the user-subreddit banner.\n",
    "* subreddit[\"name\"]-- the fullname of the user-subreddit.\n",
    "* subreddit[\"over_18\"] -- whether or not the user-subreddit is NSFW.\n",
    "* subreddit[\"public_description\"] -- the public description of the user-subreddit.\n",
    "* subreddit[\"subscribers\"] -- the number of users subscribed to the user-subreddit.\n",
    "* subreddit[\"title\"] -- the title of the user-subreddit."
   ]
  },
  {
   "cell_type": "code",
   "execution_count": null,
   "metadata": {},
   "outputs": [],
   "source": [
    "## Select a submission by id -- this one is about vegetarianism and veganism\n",
    "## on the Reddit Polska.\n",
    "submission = reddit.submission(\"vnapm6\")\n",
    "\n",
    "## Create an empty list to store data about comments.\n",
    "comments = []\n",
    "\n",
    "## Set the option to get all the comments\n",
    "submission.comments.replace_more(limit=None)\n",
    "\n",
    "## Iterate over all the comments. Ignore the comments\n",
    "## tree. Write the comments to the JSON line file.\n",
    "with open('comments.jl', 'w') as file:\n",
    "  for comment in submission.comments.list():\n",
    "      temp_dict = {}\n",
    "      temp_dict['body'] = comment.body\n",
    "      temp_dict['score'] = comment.score\n",
    "      try:\n",
    "          temp_dict['author'] = { 'name' : comment.author.name,\n",
    "                                  'karma' : comment.author.comment_karma,\n",
    "                                  'created_utc' : datetime.fromtimestamp(comment.author.created_utc).strftime('%d-%m-%Y %H:%M:%S'),\n",
    "                                  'has_verified_email' : comment.author.has_verified_email,\n",
    "                                  #'is_suspended' : comment.author.is_suspended,\n",
    "                                  'is_gold' : comment.author.is_gold\n",
    "          }\n",
    "      except:\n",
    "          pass\n",
    "      temp_dict['created_utc'] = datetime.fromtimestamp(comment.created_utc).strftime('%d-%m-%Y %H:%M:%S')\n",
    "      temp_dict['edited'] = comment.edited\n",
    "      temp_dict['is_submitter'] = comment.is_submitter\n",
    "      text_nlp = nlp(temp_dict['body'].lower())\n",
    "      temp_dict['tokens'] = [ token.lemma_ for token in text_nlp if len(token) > 1 and token.pos_ not in ['PUNCT', 'ADP', 'CCONJ', 'X' ] ]\n",
    "      \n",
    "      comments.append(temp_dict)\n",
    "      file.write(json.dumps(temp_dict) + '\\n')"
   ]
  },
  {
   "cell_type": "code",
   "execution_count": 147,
   "metadata": {},
   "outputs": [],
   "source": [
    "corpus = MyCorpus(path = 'comments.jl')"
   ]
  },
  {
   "cell_type": "code",
   "execution_count": 148,
   "metadata": {},
   "outputs": [],
   "source": [
    "dictionary = Dictionary( corpus.get_tokens() )"
   ]
  },
  {
   "cell_type": "code",
   "execution_count": 149,
   "metadata": {},
   "outputs": [],
   "source": [
    "corpus.dictionary = dictionary"
   ]
  },
  {
   "cell_type": "code",
   "execution_count": 135,
   "metadata": {},
   "outputs": [],
   "source": [
    "# Set training parameters.\n",
    "num_topics = 5\n",
    "passes = 100\n",
    "iterations = 400\n",
    "eval_every = None  ## Don't evaluate model perplexity, takes too much time.\n",
    "\n",
    "# Make an index to word dictionary.\n",
    "temp = dictionary[0]  # This is only to \"load\" the dictionary.\n",
    "id2word = dictionary.id2token\n",
    "\n",
    "model = LdaModel(\n",
    "    corpus= corpus,\n",
    "    id2word=id2word,\n",
    "    ## chunksize=chunksize,\n",
    "    alpha='auto',\n",
    "    eta='auto',\n",
    "    iterations=iterations,\n",
    "    num_topics=num_topics,\n",
    "    passes=passes,\n",
    "    eval_every=eval_every\n",
    ")"
   ]
  },
  {
   "cell_type": "code",
   "execution_count": 142,
   "metadata": {},
   "outputs": [
    {
     "name": "stdout",
     "output_type": "stream",
     "text": [
      "Average topic coherence: -4.0221.\n"
     ]
    }
   ],
   "source": [
    "top_topics = model.top_topics(corpus)\n",
    "avg_topic_coherence = sum([t[1] for t in top_topics]) / num_topics\n",
    "print('Average topic coherence: %.4f.' % avg_topic_coherence)"
   ]
  },
  {
   "cell_type": "code",
   "execution_count": 157,
   "metadata": {},
   "outputs": [
    {
     "data": {
      "text/plain": [
       "['[deleted]',\n",
       " 'Co do powodow: zabijanie nie jest ok, warunki hodowki i chowu przemyslowego również nie są ok.',\n",
       " 'Jestem za weganizmem i ze mnie taki \"weganin wannabe\". Bo ograniczyłem spożycie produktów odzwierzęcych i to mocno, ale jestem uzależniony od mięsa i przegrałem walke gdy próbowałem je wyeliminować. Jakby nagle zabrakłoby wszędzie produktów odzwierzęcych to bym nei zapłakał. No dobrze, łze bym uronił.\\n\\nNa pytanie, dlaczego powinniśmy rpzejść na weganizm odpowiada [Everyday Hero na yt.](https://www.youtube.com/c/EverydayHeroPL)',\n",
       " 'Powód prostszy niż się wydaje, zwyczajnie lubie mięso i tyle.',\n",
       " '>moja wątroba nie działa sprawnie w 100% i przy jedzeniu czegoś tłustszego, mięsa czy picia alkoholu - nie jest kolorowo.\\n\\nA jakie masz podejście do chudego mięsa, ryb, odtłuszczonego mleka, orzechów ?',\n",
       " 'ODIP z mięs drób jest najbardziej ekologiczny, więc ograniczanie się do niewielkich ilości drobiu brzmi jak spoko postawa.',\n",
       " 'zostaw ziemniaki ale zjedz mięso',\n",
       " 'Earthling Ed to przekozak, potężna wgórołapka',\n",
       " 'Co do serow to jako weganin stale ubolewam nad dostepnymi opcjami sklepowymi. Domowej roboty nie sa najgorsze do niektorych zastosowan - taka migdalowa ricotta np niczym nie odstaje od mlecznego odpowiednika, a domowy starzony brie (z normalnymi kulturami plesni) na jej bazie rozwalil mozgi moim miesozernym znajomym. Mysle ze w weganskich serach drzemie naprawde duzo potencjalu, tylko potrzebujemy calej kultury serowarstwa dookola tego, zeby to osiagnac. \\nNo i poza tym wszystkim jest jeszcze nadzieja ze firmy typu re-milk zrewolucjonizuja rynek serow na tyle, ze ludzie ktorzy jedza nabial od zwierzat nie beda mieli zadnych powodow do ich krzywdzenia .',\n",
       " 'O tak. Kiedys byłam wegetarianką (10 lat) i nawet wtedy organicznie nie znosiłam wegan za właśnie takie zachowania.\\n\\nZamiast upichcić znajomym coś dobrego bez mięsa, żeby sie przekonali, że bez mięsa można też fajnie zjeść i może znajomi wtedy też zaczną czasami tak gotować, to nie. Lepiej walnąć umoralniające wykłady, bo jakis smiec śmiał śmieć zjeść jajko albo ograniczyc mięso albo, zgrozo, nic nie robić ze swoją dietą i czuc sie z tym ok xD To pomoże xD \\n\\nCzęsto miałam i nadal mam wrażenie, ze wielu weganom weganizm nie jest potrzebny dla zdrowia, etyki czy walki o klimat, tylko do poczucia się wyjątkowym, oświeconym  płatkiem śniegu. Obrzydliwe.',\n",
       " 'Polecam blog i książki kucharskie Jadłonomia - niezbyt skomplikowane, a efektowne smakowo przepisy.',\n",
       " '[deleted]',\n",
       " 'Czemu nie dobierzesz zatem słów tak, aby nie brzmiały wartościująco? Stygmatyzacja objawia się m. in. w doborze słów.\\n\\n> Jedni z powodów zdrowotnych, inni z *troski o dobro zwierząt*, obecnie coraz częstszym powodem jest właśnie chęć przeciwdziałania zmianom klimatycznym. \\n\\nFTFY',\n",
       " '* Można nie jeść mięsa z powodów etycznych/środowiskowych/zdrowotnych, ale wciąż lubić jego smak. Większość zamienników nie oszuka mięsożercy, ale są \"good enough\" dla osób niejedzących mięsa przez długi okres.\\n* Zmienniki zamiennikom nierówne. Not Milk od Alpro jest bardzo podobne do krowiego mleka. Wegańskie lody Ben & Jerry czy Magnum nie odstają niczym od klasycznych. Jogurty Alpro są przepyszne. Produkty od Impossible Foods czy Beyond Meat są całkiem realistyczne. Technologia żywności idzie do przodu.\\n* Zdrowsze pod jakim względem? Osoby na dietach roślinnych mają mniejszy współczynnik śmiertelności, z mniejszą szansą na cukrzycę typu 2, nadciśnienie i otyłość. Produkty roślinne zwykle mają znacznie mniej tłuszczy nasyconych. Roślin też nie faszerujemy antybiotykami, hormonami i sterydami w procesie produkcji.\\n* Koszt produkcji mięsa nie jest przerzucany na konsumenta w takim stopniu jak koszt roślinnych zamienników. Ceny produktów roślinnych byłyby tańsze albo zbliżone do mięsa, gdyby rynek hodowlany nie otrzymał ogromnych dotacji i gdyby skala produkcji zamienników byłaby większa. Domowe zamienniki (np. burger z fasoli) wychodzą znacznie taniej niż mięso, nawet licząc koszt za kcal.',\n",
       " 'Z serem i jajkami mam podobnie dlatego staram się kupować mniej, ale lepsze jakościowo produkty czyli nie walić na każdą kanapkę plastra taniego sera tylko zrobić coś nieco bardziej urozmaiconego.\\n\\n\\nChciałbym też kupować możliwie jak najbardziej etyczne produkty, ale tutaj często jest problem z transparentnością firm odpowedzialnych za produkcję (nie tylko w branży spożywczej ale również odzieżowej). Mam nadzieję, że to się poprawi chociażby ze względów marketingowych.\\n\\nBtw. podobno są zamienniki jaj typu Just Egg, ale to chyba głównie jako jajecznica, a nie takie sadzone czy na miękko ;)',\n",
       " 'Będzie długo, chcę się trochę wygadać. Myślę, że wynika to z paru powodów:\\n\\n* [Mamy tendencję\\xa0postrzegać negatywnie osoby, których zachowania wynikają z pobudek etycznych.](https://en.wikipedia.org/wiki/Do-gooder_derogation) W końcu jeżeli weganie mają rację, to cała reszta robi \"źle\", a nikt nie chce być tym \"złym\". Dużo prościej atakować samych wegan, niż skupić się na ich argumentach i zakwestionować albo nawet zmienić własne nawyki. To powoduje, że postawa i zachowania wegan mogą być odbierane jako agresywne, nawet jeżeli intencje były zupełnie inne.\\n\\n* Weganie czują ogromną bezsilność wobec następstw przemysłu hodowlanego. Negatywny efekt na środowisko, \"dead zones\", nadużycie antybiotyków i antybiotykooporność bakterii, niszczenie naturalnych habitatów, wycinanie lasów równikowych pod paszę, overfishing oceanów, masowe wymieranie gatunków, wyzysk i trauma pracowników, cierpienie zwierząt hodowlanych na masową skalę... Wiadomo, że potrzebna jest zmiana systemowa i obarczanie winą jednostek nie przynosi większych efektów. Jednak postaraj się postawić na ich miejscu, przytłoczona tymi informacjami. Weganie są tylko ludźmi i mogą czuć żal do osób, które jakby nie patrzeć wspierają ten przemysł i wybierają albo ignorancję, albo ciche przyzwolenie.\\n\\nZ moich dotychczasowych doświadczeń, samo gotowanie po prostu nie działa. Może rozszerzysz komuś jadłospis, może nawet zrobią krótki eksperyment z inną dietą, ale bez ciężkich tematów i niekomfortowych konwersacji nie zmienisz niczyjego punktu widzenia.\\n\\nLudzie oczekują od wegan potulności i zrozumienia, bo taka postawa ze strony wegan nie kwestionuje statusu quo. Powtarza się jak mantrę, że lepiej żeby kilkanaście osób zaczęło jeść mniej mięsa niż żeby jedna osoba całkowicie przeszła na dietę roślinną. Ale teraz podejdźmy do tego z innej strony: kto będzie bardziej skłonny do postulowania o zmiany systemowe i do aktywizmu na rzecz praw zwierząt? Kto ma większą szansę na skłonienie innych osób do zmiany swoich zachowań? Właśnie stąd poniekąd może brać się niechęć czy nawet agresja wegan do np. wegetarian i fleksitarian: bo ci widzą problem, ale wybierają półśrodek.\\n\\nWybór lub odrzucenie weganizmu jest zgoła inne niż np. w przypadku religii. Religia dotyka głównie własnych przekonań i poglądów: dopiero pójście w ekstremizm i narzucanie swoich poglądów innym ma wpływ na inne osoby, ale w dużej mierze wybór tej czy innej religii największy wpływ na samą osobę (nie)wierzącą. Niestety, wybór naszej diety nie jest tak personalny. Możesz nie zamienić z nikim słowa na temat swojej diety, a wciąż Twoje najmniejsze, codzienne wybory będą miały wpływ na inne życia. Mówiąc kolokwialnie, każdy kawałek mięska był kiedyś kawałkiem żywej istoty i na razie nie ma tego jak obejść.\\n\\nWybór weganizmu, wegetarianizmu, fleksitarianizmu czy karnizmu ma bezpośredni wpływ na to, jak postrzegasz wartość\\xa0życia innych istot. I tak, masz absolutną rację, że idą za tym też inne tematy jak ochrona\\xa0środowiska, wydajność systemu produkcji żywności, problemy z pracownikami przemysłu mięsnego i wiele, wiele innych. Można wszystko negować lub ignorować, ale to są realne problemy, z którymi będziemy musieli sobie prędzej czy później poradzić. To wszystko może brzmieć jak łechtanie ego i oczywiście nie rozwiązuje problemu globalnie, ale nie wiem, czy znajdziesz lepszy sposób na ograniczenie swojego wpływu na środowisko. (No, może oprócz decyzji o nieposiadaniu dzieci).\\n\\nWracając do samych pobudek przejścia na weganizm. Być może znajdzie się\\xa0część osób przekonanych o swojej wyższości, które robią to całkowicie pod publikę. Nie sądzę, aby był to znaczący procent całej społeczności wegan. Po prostu wspieranie przemysłu hodowlanego, gdy zależy Ci na ograniczeniu jego wpływu na środowisko i na walce o prawa zwierząt, byłoby trochę jak krytyka przemysłu tytoniowego i alkoholowego oraz szerzenie świadomości o następstwach palenia i picia przy jednoczesnym wypalaniu paru paczek i piciu kilku browarków dziennie.',\n",
       " 'Trochę wyjaśnia naszą rozmowę na temat cen to badanie, które jest cytowane w pierwszym artykule, który zalinkowałaś:\\n\\n>Compared with the cost of current diets, the healthy and sustainable dietary patterns were, depending on the pattern, up to 22–34% lower in cost in upper-middle-income to high-income countries on average (when considering statistical means), but at least 18–29% more expensive in lower-middle-income to low-income countries.\\n\\nCzyli tak - dieta wegańska jest tańsza w umiarkowanie bogatych i bogatych krajach i droższa w średnich i biedniejszych krajach.',\n",
       " 'Niefortunny dobór słów rzadko ma tak, że robi się go celowo, zazwyczaj właśnie wynika on z pisania w pośpiechu i niewystarczająco dokładnego przemyślenia budowy wypowiedzi.',\n",
       " 'Wyrzucenie papierka tez nie jest przestepstwem :) Porownania ukazuja nie zjednanie miesa z przestepstwami, tylko to, ze znalezc powod dla rownania do dolu mozna zawsze i to nie jest zadna trudnosc.  Rozumiem, ze w wyborach tez nie uczestniczysz, bo jeden glos nic nie zmienia?\\n\\nProblem w takim mysleniu jest taki, ze zmiana musi miec gdzies swoje zaczatki. Rzady nigdy nie sa prowodyrami we wprowadzaniu zmian, zawsze sa w ogonie za spoleczenstem. Nawet jak maja dobre intencje (jak to sie nazywalo? Piatka dla zwierzat? Ten chyba jedyny prawdziwie dobry pomysl Kaczynskiego, ktory upadl, bo go lobby zjadlo?), to bez silnego glosu spoleczenstwa propozycje przepadaja. Ergo, chcesz zmiany, sam badz zmiana. Btw, to naprawde nie jest tak, ze jest nas piatka na krzyz i szosty nic nie zmieni. Wg FAO, organu OZN, 2019 byl pierwszym rokiem, w ktorym konsumpcja miesa spadla po dekadach ciaglego wzrostu. W samym UK liczba wegan wzrosla czterokrotnie pomiedzy 2014 a 2019. Nie wiem czego potrzebujesz wiecej :)\\n\\nOczywiscie, nie musisz chciec tej zmiany, ale wtedy nalezy po prostu tak mowic, a nie sie czarowac, ze inni powinni wprowadzic zmiany za Ciebie.',\n",
       " \"Spoko, sam czesto tocze potyczki slowne z r/vegan bo juz po prostu nie moge z ta ich 'agresja', wiec nie mam problemu jak ktos probuje mi w dobrej intencji wyperswadowac cos podobnego (mimo ze tym razem troche nietrafione). \\n\\nTe sytuacje ktore wymieniles generalnie rozumiem, takie domkniecie wszystkiego na ostatni guzik zeby bylo wegansko nie jest latwe obecnie i zeby bylo zmiana juz musi byc raczej systemowa. A do tej sie przyczyniasz tak czy inaczej, nawet czasem czitujac na serze, wiec lepiej przekonac kilku miesojadow do lekkiej redukcji niz taka osobe jak Ty do niekupienia sera raz na jakis czas. \\n\\nCo do podpunktu nr 2 to powiem ze nie mialem zbytnich problemow z wymiana jajek osobiscie, tylko jest to o tyle niewygodne ze rozne zastosowania uzywaja roznych wlasciwosci jajek, wiec trzeba bardziej myslec czemu sluzy jajko w przepisie. Jezeli masz jakies przepisy w ktorych nie wiesz jak wymienic jajka to mozesz mi podrzucic i sprobuje odpowiedziec czego ja bym uzyl.\",\n",
       " '\"w kontekście dyskusji pobudzonych milionerem\"... który twierdzi że trzeba uświadomić ludziom że nie mają tyle żreć. Mają także odmawiać sobie wakacji w odległych miejscach.\\n\\nTen kontekst jest bardzo ważny i pomimo że to jest jedno zdanie (lub nic, jak wcześniej opisałeś. Zdecyduj się) to było najwyraźniej głównym powodem założenia postu. Więc sorki ale komentarze na temat Filipiaka są \"w temacie\".\\n\\nSkoro ja płacze na reddicie to w takim razie Ty też próbując przekonać innych żeby tego mięsa nie \"żarli\". Tak więc skierujmy te płacze i lamenty tam gdzie jest to potrzebne, tzn. protestując, pojawiając się gdziekolwiek sie taki Filipiak pojawia i uświadamiając innych że taki śmieć woli mówić żeby pospolity człowiek tyle mięsa nie żarł a np. jego żonka w swojej restauracji ani jednego wegetariańskiego dania nie ma']"
      ]
     },
     "execution_count": 157,
     "metadata": {},
     "output_type": "execute_result"
    }
   ],
   "source": [
    "[ item['body'] for item in corpus.get_topics(model=model) if item['topic'] == 3 ]"
   ]
  },
  {
   "cell_type": "code",
   "execution_count": null,
   "metadata": {},
   "outputs": [],
   "source": []
  }
 ],
 "metadata": {
  "kernelspec": {
   "display_name": "reddit",
   "language": "python",
   "name": "python3"
  },
  "language_info": {
   "codemirror_mode": {
    "name": "ipython",
    "version": 3
   },
   "file_extension": ".py",
   "mimetype": "text/x-python",
   "name": "python",
   "nbconvert_exporter": "python",
   "pygments_lexer": "ipython3",
   "version": "3.10.8"
  },
  "orig_nbformat": 4,
  "vscode": {
   "interpreter": {
    "hash": "d55d0eb9076beff1aad1bfd9ab8f276d192cdf8ff5403c32a6f6618edbf4e356"
   }
  }
 },
 "nbformat": 4,
 "nbformat_minor": 2
}
